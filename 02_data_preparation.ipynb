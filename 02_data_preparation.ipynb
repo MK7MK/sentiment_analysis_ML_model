{
 "cells": [
  {
   "cell_type": "markdown",
   "metadata": {},
   "source": [
    "# Data preparation"
   ]
  },
  {
   "cell_type": "markdown",
   "metadata": {},
   "source": [
    "For the purposes of Machine Learning methods, we usually need to convert the dataset to the mathematical vector, where each dimension defines a different feature. In our case, we need to find a good way of encoding given tweet in such form. There are several possible ways of doing that, but first of all let's dive into the dataset and see if there is anything we can do to improve the quality of the messages we have.\n",
    "\n",
    "As humans, we don't see any difference between capital and small letters, but for a computer such words would be seen as completely different ones. There are several other corrections we probably need to apply, as our datset is written by some random people, who often don't care about grammatical correctness, etc. Let's then analyze the dataset we have and see if we can correct some common issues."
   ]
  },
  {
   "cell_type": "code",
   "execution_count": 2,
   "metadata": {
    "ExecuteTime": {
     "end_time": "2019-12-03T09:28:15.523095Z",
     "start_time": "2019-12-03T09:28:15.087891Z"
    }
   },
   "outputs": [],
   "source": [
    "%store -r tw"
   ]
  },
  {
   "cell_type": "markdown",
   "metadata": {},
   "source": [
    "As a first step, we are going to analyze the frequencies of all the words."
   ]
  },
  {
   "cell_type": "code",
   "execution_count": 4,
   "metadata": {
    "ExecuteTime": {
     "end_time": "2019-12-03T09:28:16.380378Z",
     "start_time": "2019-12-03T09:28:16.305835Z"
    }
   },
   "outputs": [
    {
     "data": {
      "text/plain": [
       "0             [@VirginAmerica, What, @dhepburn, said.]\n",
       "1    [@VirginAmerica, plus, you've, added, commerci...\n",
       "2    [@VirginAmerica, I, didn't, today..., Must, me...\n",
       "3    [@VirginAmerica, it's, really, aggressive, to,...\n",
       "4    [@VirginAmerica, and, it's, a, really, big, ba...\n",
       "Name: text, dtype: object"
      ]
     },
     "execution_count": 4,
     "metadata": {},
     "output_type": "execute_result"
    }
   ],
   "source": [
    "# Divide each tweet by its words\n",
    "tw_words = tw[\"text\"].str.split()\n",
    "tw_words.head()"
   ]
  },
  {
   "cell_type": "markdown",
   "metadata": {},
   "source": [
    "For each tweet we received a list of its words, but to analyze global frequencies, we need to combine all the lists together."
   ]
  },
  {
   "cell_type": "code",
   "execution_count": 8,
   "metadata": {
    "ExecuteTime": {
     "end_time": "2019-12-03T09:28:21.456707Z",
     "start_time": "2019-12-03T09:28:18.036720Z"
    }
   },
   "outputs": [
    {
     "data": {
      "text/html": [
       "<div>\n",
       "<style scoped>\n",
       "    .dataframe tbody tr th:only-of-type {\n",
       "        vertical-align: middle;\n",
       "    }\n",
       "\n",
       "    .dataframe tbody tr th {\n",
       "        vertical-align: top;\n",
       "    }\n",
       "\n",
       "    .dataframe thead th {\n",
       "        text-align: right;\n",
       "    }\n",
       "</style>\n",
       "<table border=\"1\" class=\"dataframe\">\n",
       "  <thead>\n",
       "    <tr style=\"text-align: right;\">\n",
       "      <th></th>\n",
       "      <th>word</th>\n",
       "    </tr>\n",
       "  </thead>\n",
       "  <tbody>\n",
       "    <tr>\n",
       "      <th>0</th>\n",
       "      <td>@VirginAmerica</td>\n",
       "    </tr>\n",
       "    <tr>\n",
       "      <th>1</th>\n",
       "      <td>What</td>\n",
       "    </tr>\n",
       "    <tr>\n",
       "      <th>2</th>\n",
       "      <td>@dhepburn</td>\n",
       "    </tr>\n",
       "    <tr>\n",
       "      <th>3</th>\n",
       "      <td>said.</td>\n",
       "    </tr>\n",
       "    <tr>\n",
       "      <th>4</th>\n",
       "      <td>@VirginAmerica</td>\n",
       "    </tr>\n",
       "    <tr>\n",
       "      <th>5</th>\n",
       "      <td>plus</td>\n",
       "    </tr>\n",
       "    <tr>\n",
       "      <th>6</th>\n",
       "      <td>you've</td>\n",
       "    </tr>\n",
       "    <tr>\n",
       "      <th>7</th>\n",
       "      <td>added</td>\n",
       "    </tr>\n",
       "    <tr>\n",
       "      <th>8</th>\n",
       "      <td>commercials</td>\n",
       "    </tr>\n",
       "    <tr>\n",
       "      <th>9</th>\n",
       "      <td>to</td>\n",
       "    </tr>\n",
       "    <tr>\n",
       "      <th>10</th>\n",
       "      <td>the</td>\n",
       "    </tr>\n",
       "    <tr>\n",
       "      <th>11</th>\n",
       "      <td>experience...</td>\n",
       "    </tr>\n",
       "    <tr>\n",
       "      <th>12</th>\n",
       "      <td>tacky.</td>\n",
       "    </tr>\n",
       "    <tr>\n",
       "      <th>13</th>\n",
       "      <td>@VirginAmerica</td>\n",
       "    </tr>\n",
       "    <tr>\n",
       "      <th>14</th>\n",
       "      <td>I</td>\n",
       "    </tr>\n",
       "    <tr>\n",
       "      <th>15</th>\n",
       "      <td>didn't</td>\n",
       "    </tr>\n",
       "    <tr>\n",
       "      <th>16</th>\n",
       "      <td>today...</td>\n",
       "    </tr>\n",
       "    <tr>\n",
       "      <th>17</th>\n",
       "      <td>Must</td>\n",
       "    </tr>\n",
       "    <tr>\n",
       "      <th>18</th>\n",
       "      <td>mean</td>\n",
       "    </tr>\n",
       "    <tr>\n",
       "      <th>19</th>\n",
       "      <td>I</td>\n",
       "    </tr>\n",
       "  </tbody>\n",
       "</table>\n",
       "</div>"
      ],
      "text/plain": [
       "              word\n",
       "0   @VirginAmerica\n",
       "1             What\n",
       "2        @dhepburn\n",
       "3            said.\n",
       "4   @VirginAmerica\n",
       "5             plus\n",
       "6           you've\n",
       "7            added\n",
       "8      commercials\n",
       "9               to\n",
       "10             the\n",
       "11   experience...\n",
       "12          tacky.\n",
       "13  @VirginAmerica\n",
       "14               I\n",
       "15          didn't\n",
       "16        today...\n",
       "17            Must\n",
       "18            mean\n",
       "19               I"
      ]
     },
     "execution_count": 8,
     "metadata": {},
     "output_type": "execute_result"
    }
   ],
   "source": [
    "import pandas as pd\n",
    "\n",
    "# Chain all the lists into one Series object\n",
    "grp_words = tw_words.apply(pd.Series)\\\n",
    "                   .stack()\\\n",
    "                   .reset_index(drop=True)\\\n",
    "                   .to_frame(name=\"word\")\n",
    "grp_words.head(20)"
   ]
  },
  {
   "cell_type": "code",
   "execution_count": 9,
   "metadata": {
    "ExecuteTime": {
     "end_time": "2019-12-03T09:28:21.547715Z",
     "start_time": "2019-12-03T09:28:21.458206Z"
    }
   },
   "outputs": [
    {
     "data": {
      "text/html": [
       "<div>\n",
       "<style scoped>\n",
       "    .dataframe tbody tr th:only-of-type {\n",
       "        vertical-align: middle;\n",
       "    }\n",
       "\n",
       "    .dataframe tbody tr th {\n",
       "        vertical-align: top;\n",
       "    }\n",
       "\n",
       "    .dataframe thead th {\n",
       "        text-align: right;\n",
       "    }\n",
       "</style>\n",
       "<table border=\"1\" class=\"dataframe\">\n",
       "  <thead>\n",
       "    <tr style=\"text-align: right;\">\n",
       "      <th></th>\n",
       "      <th>word</th>\n",
       "      <th>count</th>\n",
       "    </tr>\n",
       "  </thead>\n",
       "  <tbody>\n",
       "    <tr>\n",
       "      <th>0</th>\n",
       "      <td>!</td>\n",
       "      <td>48</td>\n",
       "    </tr>\n",
       "    <tr>\n",
       "      <th>1</th>\n",
       "      <td>!!</td>\n",
       "      <td>22</td>\n",
       "    </tr>\n",
       "    <tr>\n",
       "      <th>2</th>\n",
       "      <td>!!!</td>\n",
       "      <td>11</td>\n",
       "    </tr>\n",
       "    <tr>\n",
       "      <th>3</th>\n",
       "      <td>!!!!</td>\n",
       "      <td>3</td>\n",
       "    </tr>\n",
       "    <tr>\n",
       "      <th>4</th>\n",
       "      <td>!!!!!</td>\n",
       "      <td>3</td>\n",
       "    </tr>\n",
       "    <tr>\n",
       "      <th>...</th>\n",
       "      <td>...</td>\n",
       "      <td>...</td>\n",
       "    </tr>\n",
       "    <tr>\n",
       "      <th>30100</th>\n",
       "      <td>🙏</td>\n",
       "      <td>7</td>\n",
       "    </tr>\n",
       "    <tr>\n",
       "      <th>30101</th>\n",
       "      <td>🙏🙏🙏😢😢😢🙏🙏🙏</td>\n",
       "      <td>1</td>\n",
       "    </tr>\n",
       "    <tr>\n",
       "      <th>30102</th>\n",
       "      <td>🙏🙏🙏🙏🙏🙏🙏🙏🙏🙏🙏😢😢😢😢😢😢😢😢🙏🙏🙏🙏🙏🙏🙏🙏🙏🙏🙏🙏🙏🙏🙏🙏🙏🙏🙏🙏🙏</td>\n",
       "      <td>1</td>\n",
       "    </tr>\n",
       "    <tr>\n",
       "      <th>30103</th>\n",
       "      <td>🚫</td>\n",
       "      <td>1</td>\n",
       "    </tr>\n",
       "    <tr>\n",
       "      <th>30104</th>\n",
       "      <td>🚶🚶🚶🚶</td>\n",
       "      <td>1</td>\n",
       "    </tr>\n",
       "  </tbody>\n",
       "</table>\n",
       "<p>30105 rows × 2 columns</p>\n",
       "</div>"
      ],
      "text/plain": [
       "                                           word  count\n",
       "0                                             !     48\n",
       "1                                            !!     22\n",
       "2                                           !!!     11\n",
       "3                                          !!!!      3\n",
       "4                                         !!!!!      3\n",
       "...                                         ...    ...\n",
       "30100                                         🙏      7\n",
       "30101                                 🙏🙏🙏😢😢😢🙏🙏🙏      1\n",
       "30102  🙏🙏🙏🙏🙏🙏🙏🙏🙏🙏🙏😢😢😢😢😢😢😢😢🙏🙏🙏🙏🙏🙏🙏🙏🙏🙏🙏🙏🙏🙏🙏🙏🙏🙏🙏🙏🙏      1\n",
       "30103                                         🚫      1\n",
       "30104                                      🚶🚶🚶🚶      1\n",
       "\n",
       "[30105 rows x 2 columns]"
      ]
     },
     "execution_count": 9,
     "metadata": {},
     "output_type": "execute_result"
    }
   ],
   "source": [
    "grp_words.groupby(\"word\")\\\n",
    "     .size()\\\n",
    "     .reset_index(name=\"count\")"
   ]
  },
  {
   "cell_type": "markdown",
   "metadata": {},
   "source": [
    "preprocess each rows"
   ]
  },
  {
   "cell_type": "code",
   "execution_count": 10,
   "metadata": {
    "ExecuteTime": {
     "end_time": "2019-12-03T09:28:26.554268Z",
     "start_time": "2019-12-03T09:28:26.539065Z"
    }
   },
   "outputs": [],
   "source": [
    "import re\n",
    "\n",
    "EMOJI_Rgx= re.compile(\"([\\U00010000-\\U0010ffff])\", re.UNICODE)\n",
    "Dplicated_SYM_REG = re.compile(r\"([^a-z0-9])\\1+\", re.UNICODE | re.I)\n",
    "PUNC_MARKS_REG = re.compile(r\"([,\\.\\!\\?\\[\\]\\(\\)])\", re.UNICODE)\n",
    "\n",
    "\n",
    "def preprocess_text(raw_text):\n",
    "\n",
    "    text = raw_text.lower()\n",
    "\n",
    "    text = text.replace(\"#\", \"\")\n",
    "    text = text.replace(\"@\", \"\")\n",
    "    text = EMOJI_Rgx.sub(\"\\\\1 \", text)\n",
    "\n",
    "    text = text.replace(\"\\\"\", \"\")\n",
    "    text = text.replace(\"'\", \"\")\n",
    "    # Get rid of the misused spaces by\n",
    "    text = PUNC_MARKS_REG.sub(\" \\\\1 \", text)\n",
    "\n",
    "    text = Dplicated_SYM_REG.sub(\"\\\\1\", text)\n",
    "    # Return preprocessed value\n",
    "    return text"
   ]
  },
  {
   "cell_type": "markdown",
   "metadata": {},
   "source": [
    "We have the logic for a simple preprocessing prepared, so let's see how it affects the dictionary."
   ]
  },
  {
   "cell_type": "code",
   "execution_count": 11,
   "metadata": {
    "ExecuteTime": {
     "end_time": "2019-12-03T09:28:33.564256Z",
     "start_time": "2019-12-03T09:28:29.631232Z"
    }
   },
   "outputs": [
    {
     "data": {
      "text/html": [
       "<div>\n",
       "<style scoped>\n",
       "    .dataframe tbody tr th:only-of-type {\n",
       "        vertical-align: middle;\n",
       "    }\n",
       "\n",
       "    .dataframe tbody tr th {\n",
       "        vertical-align: top;\n",
       "    }\n",
       "\n",
       "    .dataframe thead th {\n",
       "        text-align: right;\n",
       "    }\n",
       "</style>\n",
       "<table border=\"1\" class=\"dataframe\">\n",
       "  <thead>\n",
       "    <tr style=\"text-align: right;\">\n",
       "      <th></th>\n",
       "      <th>word</th>\n",
       "      <th>count</th>\n",
       "    </tr>\n",
       "  </thead>\n",
       "  <tbody>\n",
       "    <tr>\n",
       "      <th>0</th>\n",
       "      <td>!</td>\n",
       "      <td>5312</td>\n",
       "    </tr>\n",
       "    <tr>\n",
       "      <th>1</th>\n",
       "      <td>$</td>\n",
       "      <td>47</td>\n",
       "    </tr>\n",
       "    <tr>\n",
       "      <th>2</th>\n",
       "      <td>$&amp;amp;</td>\n",
       "      <td>1</td>\n",
       "    </tr>\n",
       "    <tr>\n",
       "      <th>3</th>\n",
       "      <td>$+</td>\n",
       "      <td>1</td>\n",
       "    </tr>\n",
       "    <tr>\n",
       "      <th>4</th>\n",
       "      <td>$0</td>\n",
       "      <td>3</td>\n",
       "    </tr>\n",
       "    <tr>\n",
       "      <th>...</th>\n",
       "      <td>...</td>\n",
       "      <td>...</td>\n",
       "    </tr>\n",
       "    <tr>\n",
       "      <th>17156</th>\n",
       "      <td>🙌</td>\n",
       "      <td>6</td>\n",
       "    </tr>\n",
       "    <tr>\n",
       "      <th>17157</th>\n",
       "      <td>🙏</td>\n",
       "      <td>119</td>\n",
       "    </tr>\n",
       "    <tr>\n",
       "      <th>17158</th>\n",
       "      <td>🚪</td>\n",
       "      <td>1</td>\n",
       "    </tr>\n",
       "    <tr>\n",
       "      <th>17159</th>\n",
       "      <td>🚫</td>\n",
       "      <td>1</td>\n",
       "    </tr>\n",
       "    <tr>\n",
       "      <th>17160</th>\n",
       "      <td>🚶</td>\n",
       "      <td>4</td>\n",
       "    </tr>\n",
       "  </tbody>\n",
       "</table>\n",
       "<p>17161 rows × 2 columns</p>\n",
       "</div>"
      ],
      "text/plain": [
       "         word  count\n",
       "0           !   5312\n",
       "1           $     47\n",
       "2      $&amp;      1\n",
       "3          $+      1\n",
       "4          $0      3\n",
       "...       ...    ...\n",
       "17156       🙌      6\n",
       "17157       🙏    119\n",
       "17158       🚪      1\n",
       "17159       🚫      1\n",
       "17160       🚶      4\n",
       "\n",
       "[17161 rows x 2 columns]"
      ]
     },
     "execution_count": 11,
     "metadata": {},
     "output_type": "execute_result"
    }
   ],
   "source": [
    "# Divide each tweet by its words, but perform the preprocessing first\n",
    "tw_words = tw[\"text\"].apply(preprocess_text).str.split()\n",
    "# Chain all the lists into one Series object\n",
    "grp_words = tw_words.apply(pd.Series)\\\n",
    "                   .stack()\\\n",
    "                   .reset_index(drop=True)\\\n",
    "                   .to_frame(name=\"word\")\n",
    "words_occ = grp_words.groupby(\"word\").size().reset_index(name=\"count\")\n",
    "words_occ"
   ]
  },
  {
   "cell_type": "markdown",
   "metadata": {},
   "source": [
    "We've succesfully reduced the dimensionality of our dictionary to 17161 words. The next step would be to analyze the words which have only one occurrence, in order to recoginze some more issues like spelling, etc."
   ]
  },
  {
   "cell_type": "code",
   "execution_count": 12,
   "metadata": {
    "ExecuteTime": {
     "end_time": "2019-12-03T09:28:33.575119Z",
     "start_time": "2019-12-03T09:28:33.565776Z"
    },
    "scrolled": false
   },
   "outputs": [
    {
     "data": {
      "text/html": [
       "<div>\n",
       "<style scoped>\n",
       "    .dataframe tbody tr th:only-of-type {\n",
       "        vertical-align: middle;\n",
       "    }\n",
       "\n",
       "    .dataframe tbody tr th {\n",
       "        vertical-align: top;\n",
       "    }\n",
       "\n",
       "    .dataframe thead th {\n",
       "        text-align: right;\n",
       "    }\n",
       "</style>\n",
       "<table border=\"1\" class=\"dataframe\">\n",
       "  <thead>\n",
       "    <tr style=\"text-align: right;\">\n",
       "      <th></th>\n",
       "      <th>word</th>\n",
       "      <th>count</th>\n",
       "    </tr>\n",
       "  </thead>\n",
       "  <tbody>\n",
       "    <tr>\n",
       "      <th>2</th>\n",
       "      <td>$&amp;amp;</td>\n",
       "      <td>1</td>\n",
       "    </tr>\n",
       "    <tr>\n",
       "      <th>3</th>\n",
       "      <td>$+</td>\n",
       "      <td>1</td>\n",
       "    </tr>\n",
       "    <tr>\n",
       "      <th>9</th>\n",
       "      <td>$1000cost-</td>\n",
       "      <td>1</td>\n",
       "    </tr>\n",
       "    <tr>\n",
       "      <th>10</th>\n",
       "      <td>$1038</td>\n",
       "      <td>1</td>\n",
       "    </tr>\n",
       "    <tr>\n",
       "      <th>11</th>\n",
       "      <td>$1051</td>\n",
       "      <td>1</td>\n",
       "    </tr>\n",
       "    <tr>\n",
       "      <th>...</th>\n",
       "      <td>...</td>\n",
       "      <td>...</td>\n",
       "    </tr>\n",
       "    <tr>\n",
       "      <th>17150</th>\n",
       "      <td>😵</td>\n",
       "      <td>1</td>\n",
       "    </tr>\n",
       "    <tr>\n",
       "      <th>17154</th>\n",
       "      <td>🙈</td>\n",
       "      <td>1</td>\n",
       "    </tr>\n",
       "    <tr>\n",
       "      <th>17155</th>\n",
       "      <td>🙉</td>\n",
       "      <td>1</td>\n",
       "    </tr>\n",
       "    <tr>\n",
       "      <th>17158</th>\n",
       "      <td>🚪</td>\n",
       "      <td>1</td>\n",
       "    </tr>\n",
       "    <tr>\n",
       "      <th>17159</th>\n",
       "      <td>🚫</td>\n",
       "      <td>1</td>\n",
       "    </tr>\n",
       "  </tbody>\n",
       "</table>\n",
       "<p>10333 rows × 2 columns</p>\n",
       "</div>"
      ],
      "text/plain": [
       "             word  count\n",
       "2          $&amp;      1\n",
       "3              $+      1\n",
       "9      $1000cost-      1\n",
       "10          $1038      1\n",
       "11          $1051      1\n",
       "...           ...    ...\n",
       "17150           😵      1\n",
       "17154           🙈      1\n",
       "17155           🙉      1\n",
       "17158           🚪      1\n",
       "17159           🚫      1\n",
       "\n",
       "[10333 rows x 2 columns]"
      ]
     },
     "execution_count": 12,
     "metadata": {},
     "output_type": "execute_result"
    }
   ],
   "source": [
    "words_occ[words_occ[\"count\"] == 1]"
   ]
  },
  {
   "cell_type": "markdown",
   "metadata": {},
   "source": [
    "It seems we have a lot of similar entries, words starting with dolar sign, for instance. Let's group the words by their first letter and see if there is something we can correct in the data."
   ]
  },
  {
   "cell_type": "code",
   "execution_count": 13,
   "metadata": {
    "ExecuteTime": {
     "end_time": "2019-12-03T09:28:38.041973Z",
     "start_time": "2019-12-03T09:28:37.896220Z"
    },
    "scrolled": false
   },
   "outputs": [
    {
     "data": {
      "text/html": [
       "<div>\n",
       "<style scoped>\n",
       "    .dataframe tbody tr th:only-of-type {\n",
       "        vertical-align: middle;\n",
       "    }\n",
       "\n",
       "    .dataframe tbody tr th {\n",
       "        vertical-align: top;\n",
       "    }\n",
       "\n",
       "    .dataframe thead th {\n",
       "        text-align: right;\n",
       "    }\n",
       "</style>\n",
       "<table border=\"1\" class=\"dataframe\">\n",
       "  <thead>\n",
       "    <tr style=\"text-align: right;\">\n",
       "      <th></th>\n",
       "      <th>word</th>\n",
       "    </tr>\n",
       "  </thead>\n",
       "  <tbody>\n",
       "    <tr>\n",
       "      <th>$</th>\n",
       "      <td>[$&amp;amp;, $+, $1000cost-, $1038, $1051, $10vouc...</td>\n",
       "    </tr>\n",
       "    <tr>\n",
       "      <th>%</th>\n",
       "      <td>[%]</td>\n",
       "    </tr>\n",
       "    <tr>\n",
       "      <th>&amp;</th>\n",
       "      <td>[&amp;amp;$250, &amp;amp;&amp;amp;, &amp;amp;feel, &amp;amp;only, ...</td>\n",
       "    </tr>\n",
       "    <tr>\n",
       "      <th>*</th>\n",
       "      <td>[*alliance, *any, *anything*, *bops, *cough*, ...</td>\n",
       "    </tr>\n",
       "    <tr>\n",
       "      <th>+</th>\n",
       "      <td>[+$400/ticket, +-10pm, +1-703-464-0200, +20min...</td>\n",
       "    </tr>\n",
       "    <tr>\n",
       "      <th>...</th>\n",
       "      <td>...</td>\n",
       "    </tr>\n",
       "    <tr>\n",
       "      <th>😵</th>\n",
       "      <td>[😵]</td>\n",
       "    </tr>\n",
       "    <tr>\n",
       "      <th>🙈</th>\n",
       "      <td>[🙈]</td>\n",
       "    </tr>\n",
       "    <tr>\n",
       "      <th>🙉</th>\n",
       "      <td>[🙉]</td>\n",
       "    </tr>\n",
       "    <tr>\n",
       "      <th>🚪</th>\n",
       "      <td>[🚪]</td>\n",
       "    </tr>\n",
       "    <tr>\n",
       "      <th>🚫</th>\n",
       "      <td>[🚫]</td>\n",
       "    </tr>\n",
       "  </tbody>\n",
       "</table>\n",
       "<p>101 rows × 1 columns</p>\n",
       "</div>"
      ],
      "text/plain": [
       "                                                 word\n",
       "$   [$&amp;, $+, $1000cost-, $1038, $1051, $10vouc...\n",
       "%                                                 [%]\n",
       "&   [&amp;$250, &amp;&amp;, &amp;feel, &amp;only, ...\n",
       "*   [*alliance, *any, *anything*, *bops, *cough*, ...\n",
       "+   [+$400/ticket, +-10pm, +1-703-464-0200, +20min...\n",
       "..                                                ...\n",
       "😵                                                 [😵]\n",
       "🙈                                                 [🙈]\n",
       "🙉                                                 [🙉]\n",
       "🚪                                                 [🚪]\n",
       "🚫                                                 [🚫]\n",
       "\n",
       "[101 rows x 1 columns]"
      ]
     },
     "execution_count": 13,
     "metadata": {},
     "output_type": "execute_result"
    }
   ],
   "source": [
    "words_occ[words_occ[\"count\"] == 1]\\\n",
    "    .groupby(lambda idx: words_occ[\"word\"][idx][0])[\"word\"]\\\n",
    "    .apply(list)\\\n",
    "    .to_frame()"
   ]
  },
  {
   "cell_type": "markdown",
   "metadata": {},
   "source": [
    "From the human point of view, use of some diactric marks is an useful piece of information, when it comes to the meaning of a particular sentence, so we are going to keep them."
   ]
  },
  {
   "cell_type": "markdown",
   "metadata": {},
   "source": [
    "## Exercise\n",
    "\n",
    "As we see, there are some more issues with the data, for instance:\n",
    "- html entities are encoded (< as &amp;lt;, > as &amp;gt;, etc.)\n",
    "- leading special characters, like ❤️from, :arrived, =we, /dying, \\*any\n",
    "\n",
    "The goal of this exercise is to review the dictionary once again to find some more issues, and to include the corrections for all the found problems in our **preprocess_text** function. The source code may be found in *exercise/exercise_01.py*. Please modify the file with your changes before going further."
   ]
  },
  {
   "cell_type": "code",
   "execution_count": 14,
   "metadata": {
    "ExecuteTime": {
     "end_time": "2019-12-03T09:28:46.542066Z",
     "start_time": "2019-12-03T09:28:46.535197Z"
    }
   },
   "outputs": [],
   "source": [
    "%run exercise/exercise_01.py"
   ]
  },
  {
   "cell_type": "code",
   "execution_count": 15,
   "metadata": {
    "ExecuteTime": {
     "end_time": "2019-12-03T09:28:50.661112Z",
     "start_time": "2019-12-03T09:28:47.072747Z"
    },
    "scrolled": false
   },
   "outputs": [
    {
     "data": {
      "text/html": [
       "<div>\n",
       "<style scoped>\n",
       "    .dataframe tbody tr th:only-of-type {\n",
       "        vertical-align: middle;\n",
       "    }\n",
       "\n",
       "    .dataframe tbody tr th {\n",
       "        vertical-align: top;\n",
       "    }\n",
       "\n",
       "    .dataframe thead th {\n",
       "        text-align: right;\n",
       "    }\n",
       "</style>\n",
       "<table border=\"1\" class=\"dataframe\">\n",
       "  <thead>\n",
       "    <tr style=\"text-align: right;\">\n",
       "      <th></th>\n",
       "      <th>word</th>\n",
       "      <th>count</th>\n",
       "    </tr>\n",
       "  </thead>\n",
       "  <tbody>\n",
       "    <tr>\n",
       "      <th>237</th>\n",
       "      <td>.</td>\n",
       "      <td>19104</td>\n",
       "    </tr>\n",
       "    <tr>\n",
       "      <th>15270</th>\n",
       "      <td>to</td>\n",
       "      <td>8644</td>\n",
       "    </tr>\n",
       "    <tr>\n",
       "      <th>15045</th>\n",
       "      <td>the</td>\n",
       "      <td>6055</td>\n",
       "    </tr>\n",
       "    <tr>\n",
       "      <th>9064</th>\n",
       "      <td>i</td>\n",
       "      <td>5407</td>\n",
       "    </tr>\n",
       "    <tr>\n",
       "      <th>0</th>\n",
       "      <td>!</td>\n",
       "      <td>5312</td>\n",
       "    </tr>\n",
       "    <tr>\n",
       "      <th>...</th>\n",
       "      <td>...</td>\n",
       "      <td>...</td>\n",
       "    </tr>\n",
       "    <tr>\n",
       "      <th>10165</th>\n",
       "      <td>limits</td>\n",
       "      <td>1</td>\n",
       "    </tr>\n",
       "    <tr>\n",
       "      <th>10166</th>\n",
       "      <td>lin</td>\n",
       "      <td>1</td>\n",
       "    </tr>\n",
       "    <tr>\n",
       "      <th>10167</th>\n",
       "      <td>lindaswc</td>\n",
       "      <td>1</td>\n",
       "    </tr>\n",
       "    <tr>\n",
       "      <th>10168</th>\n",
       "      <td>lindsay</td>\n",
       "      <td>1</td>\n",
       "    </tr>\n",
       "    <tr>\n",
       "      <th>8580</th>\n",
       "      <td>guyana</td>\n",
       "      <td>1</td>\n",
       "    </tr>\n",
       "  </tbody>\n",
       "</table>\n",
       "<p>17161 rows × 2 columns</p>\n",
       "</div>"
      ],
      "text/plain": [
       "           word  count\n",
       "237           .  19104\n",
       "15270        to   8644\n",
       "15045       the   6055\n",
       "9064          i   5407\n",
       "0             !   5312\n",
       "...         ...    ...\n",
       "10165    limits      1\n",
       "10166       lin      1\n",
       "10167  lindaswc      1\n",
       "10168   lindsay      1\n",
       "8580     guyana      1\n",
       "\n",
       "[17161 rows x 2 columns]"
      ]
     },
     "execution_count": 15,
     "metadata": {},
     "output_type": "execute_result"
    }
   ],
   "source": [
    "import pandas as pd\n",
    "\n",
    "# Divide each tweet by its words, but perform the preprocessing first\n",
    "tw_words = tw[\"text\"].apply(preprocess_text).str.split()\n",
    "# Chain all the lists into one Series object\n",
    "grp_words = tw_words.apply(pd.Series)\\\n",
    "                   .stack()\\\n",
    "                   .reset_index(drop=True)\\\n",
    "                   .to_frame(name=\"word\")\n",
    "words_occ = grp_words.groupby(\"word\")\\\n",
    "                        .size()\\\n",
    "                        .reset_index(name=\"count\")\n",
    "words_occ.sort_values(\"count\", ascending=False)"
   ]
  },
  {
   "cell_type": "code",
   "execution_count": 16,
   "metadata": {
    "ExecuteTime": {
     "end_time": "2019-12-03T09:28:50.926084Z",
     "start_time": "2019-12-03T09:28:50.662524Z"
    }
   },
   "outputs": [
    {
     "data": {
      "text/html": [
       "<div>\n",
       "<style scoped>\n",
       "    .dataframe tbody tr th:only-of-type {\n",
       "        vertical-align: middle;\n",
       "    }\n",
       "\n",
       "    .dataframe tbody tr th {\n",
       "        vertical-align: top;\n",
       "    }\n",
       "\n",
       "    .dataframe thead th {\n",
       "        text-align: right;\n",
       "    }\n",
       "</style>\n",
       "<table border=\"1\" class=\"dataframe\">\n",
       "  <thead>\n",
       "    <tr style=\"text-align: right;\">\n",
       "      <th></th>\n",
       "      <th>word</th>\n",
       "    </tr>\n",
       "  </thead>\n",
       "  <tbody>\n",
       "    <tr>\n",
       "      <th>$</th>\n",
       "      <td>[$&amp;amp;, $+, $1000cost-, $1038, $1051, $10vouc...</td>\n",
       "    </tr>\n",
       "    <tr>\n",
       "      <th>%</th>\n",
       "      <td>[%]</td>\n",
       "    </tr>\n",
       "    <tr>\n",
       "      <th>&amp;</th>\n",
       "      <td>[&amp;amp;$250, &amp;amp;&amp;amp;, &amp;amp;feel, &amp;amp;only, ...</td>\n",
       "    </tr>\n",
       "    <tr>\n",
       "      <th>*</th>\n",
       "      <td>[*alliance, *any, *anything*, *bops, *cough*, ...</td>\n",
       "    </tr>\n",
       "    <tr>\n",
       "      <th>+</th>\n",
       "      <td>[+$400/ticket, +-10pm, +1-703-464-0200, +20min...</td>\n",
       "    </tr>\n",
       "    <tr>\n",
       "      <th>...</th>\n",
       "      <td>...</td>\n",
       "    </tr>\n",
       "    <tr>\n",
       "      <th>😵</th>\n",
       "      <td>[😵]</td>\n",
       "    </tr>\n",
       "    <tr>\n",
       "      <th>🙈</th>\n",
       "      <td>[🙈]</td>\n",
       "    </tr>\n",
       "    <tr>\n",
       "      <th>🙉</th>\n",
       "      <td>[🙉]</td>\n",
       "    </tr>\n",
       "    <tr>\n",
       "      <th>🚪</th>\n",
       "      <td>[🚪]</td>\n",
       "    </tr>\n",
       "    <tr>\n",
       "      <th>🚫</th>\n",
       "      <td>[🚫]</td>\n",
       "    </tr>\n",
       "  </tbody>\n",
       "</table>\n",
       "<p>101 rows × 1 columns</p>\n",
       "</div>"
      ],
      "text/plain": [
       "                                                 word\n",
       "$   [$&amp;, $+, $1000cost-, $1038, $1051, $10vouc...\n",
       "%                                                 [%]\n",
       "&   [&amp;$250, &amp;&amp;, &amp;feel, &amp;only, ...\n",
       "*   [*alliance, *any, *anything*, *bops, *cough*, ...\n",
       "+   [+$400/ticket, +-10pm, +1-703-464-0200, +20min...\n",
       "..                                                ...\n",
       "😵                                                 [😵]\n",
       "🙈                                                 [🙈]\n",
       "🙉                                                 [🙉]\n",
       "🚪                                                 [🚪]\n",
       "🚫                                                 [🚫]\n",
       "\n",
       "[101 rows x 1 columns]"
      ]
     },
     "execution_count": 16,
     "metadata": {},
     "output_type": "execute_result"
    }
   ],
   "source": [
    "words_occ[words_occ[\"count\"] == 1]\\\n",
    "    .groupby(lambda idx: words_occ[\"word\"][idx][0])[\"word\"]\\\n",
    "    .apply(list)\\\n",
    "    .to_frame()"
   ]
  },
  {
   "cell_type": "code",
   "execution_count": null,
   "metadata": {},
   "outputs": [],
   "source": []
  }
 ],
 "metadata": {
  "kernelspec": {
   "display_name": "Python 3",
   "language": "python",
   "name": "python3"
  },
  "language_info": {
   "codemirror_mode": {
    "name": "ipython",
    "version": 3
   },
   "file_extension": ".py",
   "mimetype": "text/x-python",
   "name": "python",
   "nbconvert_exporter": "python",
   "pygments_lexer": "ipython3",
   "version": "3.8.8"
  }
 },
 "nbformat": 4,
 "nbformat_minor": 1
}
